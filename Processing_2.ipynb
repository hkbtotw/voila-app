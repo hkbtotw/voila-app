{
 "cells": [
  {
   "cell_type": "markdown",
   "metadata": {
    "slideshow": {
     "slide_type": "-"
    }
   },
   "source": [
    "# Quantitative Analysis [Stock, Oil, Currency]"
   ]
  },
  {
   "cell_type": "code",
   "execution_count": 1,
   "metadata": {},
   "outputs": [
    {
     "name": "stderr",
     "output_type": "stream",
     "text": [
      "C:\\Users\\70018928\\AppData\\Local\\Continuum\\anaconda3\\envs\\quandl\\lib\\site-packages\\pandas_datareader\\compat\\__init__.py:7: FutureWarning:\n",
      "\n",
      "pandas.util.testing is deprecated. Use the functions in the public API at pandas.testing instead.\n",
      "\n"
     ]
    }
   ],
   "source": [
    "# Work with Conda Quandl environment and Voila installation\n",
    "import pandas as pd\n",
    "import plotly.graph_objects as go\n",
    "from plotly.subplots import make_subplots\n",
    "from Operations import LoadData, ReadSheet, catDict\n",
    "import warnings\n",
    "\n",
    "warnings.filterwarnings(\"ignore\")\n",
    "\n",
    "# Declare Class\n",
    "loadData=LoadData()\n",
    "readSheet=ReadSheet()\n",
    "\n",
    "# Declare function\n",
    "sheetCList=readSheet.Authorization_Currency()\n",
    "sheetOList=readSheet.Authorization_Oil()\n",
    "sheetSList=readSheet.Authorization_Stock()\n",
    "setSheet=readSheet.Authorization()\n",
    "todayStr, nowDate, nowTime=readSheet.GetDateTime()\n",
    "\n",
    "listCDf=[]\n",
    "[listCDf.append(readSheet.LoadSheet(n)) for n in sheetCList]\n",
    "\n",
    "listODf=[]\n",
    "[listODf.append(readSheet.LoadSheet(n)) for n in sheetOList]\n",
    "\n",
    "listSDf=[]\n",
    "[listSDf.append(readSheet.LoadSheet_2(n)) for n in sheetSList]\n",
    "\n",
    "dfSet=readSheet.LoadSheet(setSheet)\n",
    "\n",
    "category='currency'\n",
    "dfCon=readSheet.ConvertCurrency_2(listCDf,category)"
   ]
  },
  {
   "cell_type": "code",
   "execution_count": null,
   "metadata": {
    "slideshow": {
     "slide_type": "-"
    }
   },
   "outputs": [],
   "source": [
    "## Stock\n",
    "category='stock'\n",
    "#fig=go.Figure()\n",
    "fig = make_subplots(\n",
    "    rows=1, cols=2,\n",
    "    column_widths=[0.6, 0.4],\n",
    "    #row_heights=[0.4, 0.6],\n",
    "    specs=[[{\"type\": \"scatter\", \"rowspan\": 1}, {\"type\": \"scatter\"}],])\n",
    "\n",
    "fig.add_trace(go.Scatter(x=listSDf[0]['Date'].tolist(),\n",
    "        y = listSDf[0]['Adj Close'].values.tolist(), name=catDict[category][0],text=catDict[category][0]\n",
    "            ), row=1, col=1)\n",
    "if(len(listSDf)>2):    \n",
    "    for n in range(1,len(stockData)):\n",
    "        fig.add_trace(go.Scatter(x=listSDf[0]['Date'].tolist(),\n",
    "            y = listSDf[n]['Adj Close'].values.tolist(), name=catDict[category][n],visible='legendonly',text=catDict[category][n]\n",
    "                ), row=1, col=1)\n",
    "else:\n",
    "    n=1\n",
    "    fig.add_trace(go.Scatter(x=listSDf[n]['Date'].tolist(),\n",
    "            y = listSDf[n]['Adj Close'].values.tolist(), name=catDict[category][n],text=catDict[category][n]\n",
    "                ), row=1, col=1 )\n",
    "\n",
    "fig.add_trace(go.Scatter(x=dfSet['Date'].tolist(),\n",
    "        y = dfSet['Price'].values.tolist(), name='SET.BK',text='SET.BK'\n",
    "            ), row=1, col=2)    \n",
    "\n",
    "\n",
    "fig.update_xaxes(rangeslider_visible=True, tickangle=35)\n",
    "\n",
    "\n",
    "\n",
    "fig.update_layout(width=1000, height=400, title_text=\"Stock [Left: Thai Stock Prices, Right: Thai Stock Market Index]\", template=\"plotly_dark\",\n",
    "    margin=dict(r=10, t=30, b=40, l=60),)\n",
    "fig.show()"
   ]
  },
  {
   "cell_type": "code",
   "execution_count": null,
   "metadata": {
    "slideshow": {
     "slide_type": "-"
    }
   },
   "outputs": [],
   "source": [
    "## Oil\n",
    "category='oil'\n",
    "fig=go.Figure()\n",
    "\n",
    "fig.add_trace(go.Scatter(x=listODf[0]['Date'].tolist(),\n",
    "        y = listODf[0]['Adj Close'].values.tolist(), name=catDict[category][0],text=catDict[category][0]\n",
    "            ))\n",
    "if(len(listODf)>2):\n",
    "    for n in range(1,len(oilData)):\n",
    "        fig.add_trace(go.Scatter(x=listODf[0]['Date'].tolist(),\n",
    "                y = listODf[n]['Adj Close'].values.tolist(), name=catDict[category][n],visible='legendonly',text=catDict[category][n]\n",
    "            ))\n",
    "if(len(listODf)==2):\n",
    "    n=1\n",
    "    fig.add_trace(go.Scatter(x=listODf[0]['Date'].tolist(),\n",
    "        y = listODf[n]['Adj Close'].values.tolist(), name=catDict[category][n],visible='legendonly',text=catDict[category][n]\n",
    "            ))\n",
    "\n",
    "fig.update_xaxes(rangeslider_visible=True)\n",
    "fig.update_layout(width=1000, height=500, title_text='Crude Oil Price Variation')\n",
    "fig.show()"
   ]
  },
  {
   "cell_type": "code",
   "execution_count": null,
   "metadata": {
    "slideshow": {
     "slide_type": "-"
    }
   },
   "outputs": [],
   "source": [
    "## Currency\n",
    "category='currency'\n",
    "#fig=go.Figure()\n",
    "fig = make_subplots(\n",
    "    rows=1, cols=2,\n",
    "    column_widths=[0.5, 0.5],\n",
    "    #row_heights=[0.4, 0.6],\n",
    "    specs=[[{\"type\": \"scatter\", \"rowspan\": 1}, {\"type\": \"scatter\"}],])\n",
    "\n",
    "fig.add_trace(go.Scatter(x=listCDf[0]['Date'].tolist(),\n",
    "        y = listCDf[0]['Adj Close'].values.tolist(), name=catDict[category][0],text=catDict[category][0]\n",
    "            ), row=1, col=2)\n",
    "for n in range(1,len(listCDf)):\n",
    "    fig.add_trace(go.Scatter(x=listCDf[n]['Date'].tolist(),\n",
    "        y = listCDf[n]['Adj Close'].values.tolist(), name=catDict[category][n],text=catDict[category][n]\n",
    "            ), row=1, col=1)\n",
    "fig.add_trace(go.Scatter(x=dfCon['Date'].tolist(),\n",
    "        y = dfCon['THB_EUR'].values.tolist(), name='THB_EUR',text='THB_EUR'\n",
    "            ), row=1, col=2)  \n",
    "fig.add_trace(go.Scatter(x=dfCon['Date'].tolist(),\n",
    "        y = dfCon['THB_CNY'].values.tolist(), name='THB_CNY',text='THB_CNY'\n",
    "            ), row=1, col=2)  \n",
    "fig.add_trace(go.Scatter(x=dfCon['Date'].tolist(),\n",
    "        y = dfCon['THB_SGD'].values.tolist(), name='THB_SGD',text='THB_SGD'\n",
    "            ), row=1, col=2)  \n",
    "fig.add_trace(go.Scatter(x=dfCon['Date'].tolist(),\n",
    "        y = dfCon['THB_HKD'].values.tolist(), name='THB_HKD',text='THB_HKD'\n",
    "            ), row=1, col=2)  \n",
    "fig.add_trace(go.Scatter(x=dfCon['Date'].tolist(),\n",
    "        y = dfCon['THB_JPY'].values.tolist(), name='THB_JPY',text='THB_JPY'\n",
    "            ), row=1, col=2)  \n",
    "\n",
    "\n",
    "    \n",
    "fig.update_xaxes(rangeslider_visible=True, tickangle=35)\n",
    "fig.update_layout(width=1000, height=400, title_text=\"Currency [Left: Currency per USD, Right: Thai Baht per each Currency] \", template=\"plotly_dark\",\n",
    "    margin=dict(r=10, t=30, b=40, l=60),)\n",
    "fig.show()"
   ]
  }
 ],
 "metadata": {
  "kernelspec": {
   "display_name": "quandl",
   "language": "python",
   "name": "quandl"
  },
  "language_info": {
   "codemirror_mode": {
    "name": "ipython",
    "version": 3
   },
   "file_extension": ".py",
   "mimetype": "text/x-python",
   "name": "python",
   "nbconvert_exporter": "python",
   "pygments_lexer": "ipython3",
   "version": "3.7.7"
  }
 },
 "nbformat": 4,
 "nbformat_minor": 2
}
